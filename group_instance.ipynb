{
 "cells": [
  {
   "cell_type": "code",
   "execution_count": 1,
   "id": "60acdc85-3958-408a-b935-18085f058a4e",
   "metadata": {},
   "outputs": [],
   "source": [
    "import os, sys"
   ]
  },
  {
   "cell_type": "code",
   "execution_count": 2,
   "id": "473d851b-f2a4-4317-b823-3501c0c56a0b",
   "metadata": {},
   "outputs": [],
   "source": [
    "path = './custom_instances/'\n",
    "new_path = './benchmark_instances/'"
   ]
  },
  {
   "cell_type": "code",
   "execution_count": 3,
   "id": "ff01ab27-d50f-43f0-b077-eb1b10d81b3a",
   "metadata": {},
   "outputs": [],
   "source": [
    "count = 0\n",
    "for folder in os.listdir(path):\n",
    "    for i in range(20): \n",
    "        file = os.listdir(path+folder)[i]\n",
    "        with open(path+folder+'/'+file, 'r') as f1, open(new_path+'{}_{}'.format(folder, file), 'w') as f2:\n",
    "            for line in f1:\n",
    "                f2.write(line)     "
   ]
  },
  {
   "cell_type": "code",
   "execution_count": null,
   "id": "563e3b41-d17b-404f-bf5b-68f7200f03db",
   "metadata": {},
   "outputs": [],
   "source": []
  }
 ],
 "metadata": {
  "kernelspec": {
   "display_name": "Python 3",
   "language": "python",
   "name": "python3"
  },
  "language_info": {
   "codemirror_mode": {
    "name": "ipython",
    "version": 3
   },
   "file_extension": ".py",
   "mimetype": "text/x-python",
   "name": "python",
   "nbconvert_exporter": "python",
   "pygments_lexer": "ipython3",
   "version": "3.8.8"
  }
 },
 "nbformat": 4,
 "nbformat_minor": 5
}
